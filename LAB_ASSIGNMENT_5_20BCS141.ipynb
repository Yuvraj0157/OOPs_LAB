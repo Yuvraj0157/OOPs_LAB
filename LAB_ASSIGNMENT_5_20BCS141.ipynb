{
  "nbformat": 4,
  "nbformat_minor": 0,
  "metadata": {
    "colab": {
      "name": "LAB ASSIGNMENT-5_20BCS141.ipynb",
      "provenance": [],
      "collapsed_sections": [],
      "authorship_tag": "ABX9TyO2T5NEhu77LH9lWCk6nM5E",
      "include_colab_link": true
    },
    "kernelspec": {
      "name": "python3",
      "display_name": "Python 3"
    },
    "language_info": {
      "name": "python"
    }
  },
  "cells": [
    {
      "cell_type": "markdown",
      "metadata": {
        "id": "view-in-github",
        "colab_type": "text"
      },
      "source": [
        "<a href=\"https://colab.research.google.com/github/Yuvraj0157/OOPs_LAB/blob/main/LAB_ASSIGNMENT_5_20BCS141.ipynb\" target=\"_parent\"><img src=\"https://colab.research.google.com/assets/colab-badge.svg\" alt=\"Open In Colab\"/></a>"
      ]
    },
    {
      "cell_type": "markdown",
      "metadata": {
        "id": "BPtMJ7OIr1DF"
      },
      "source": [
        "NAME - YUVRAJ SINGH\n",
        "\n",
        "ROLL NO. - 20BCS141"
      ]
    },
    {
      "cell_type": "markdown",
      "metadata": {
        "id": "rDrAl5z5r-AG"
      },
      "source": [
        "1. Write a Python programme to create the parent class shape, derive the subclasses circle,\n",
        "square, and rectangle from the class shape, and demonstrate polymorphism in inheritance\n",
        "using a member function area ()."
      ]
    },
    {
      "cell_type": "code",
      "metadata": {
        "colab": {
          "base_uri": "https://localhost:8080/"
        },
        "id": "TX_NUBDqrslA",
        "outputId": "e5c97cbb-a81b-4c11-9190-0125d6c8428d"
      },
      "source": [
        "class shape:\n",
        "  def __init__(self):\n",
        "    self.radius = 0\n",
        "    self.length = 0\n",
        "    self.breadth = 0\n",
        "    self.side = 0\n",
        "\n",
        "  def area(self):\n",
        "    pass\n",
        "\n",
        "class circle(shape):\n",
        "  def __init__(self,radius):\n",
        "    self.radius = radius\n",
        "\n",
        "  def area(self):\n",
        "    return print(\"Area of circle :\", 3.14*((self.radius)**2))\n",
        "\n",
        "class square(shape):\n",
        "  def __init__(self,side):\n",
        "    self.side = side\n",
        "\n",
        "  def area(self):\n",
        "    return print(\"\\nArea of square :\", (self.side)**2)\n",
        "\n",
        "class rectangle(shape):\n",
        "  def __init__(self,length,breadth):\n",
        "    self.length = length\n",
        "    self.breadth = breadth\n",
        "\n",
        "  def area(self):\n",
        "    return print(\"\\nArea of rectangle :\", self.length*self.breadth)\n",
        "\n",
        "c = circle(2)\n",
        "c.area()\n",
        "\n",
        "s = square(4)\n",
        "s.area()\n",
        "\n",
        "r = rectangle(2,4)\n",
        "r.area()"
      ],
      "execution_count": 63,
      "outputs": [
        {
          "output_type": "stream",
          "name": "stdout",
          "text": [
            "Area of circle : 12.56\n",
            "\n",
            "Area of square : 16\n",
            "\n",
            "Area of rectangle : 8\n"
          ]
        }
      ]
    },
    {
      "cell_type": "markdown",
      "metadata": {
        "id": "d7FnjQoBsDb6"
      },
      "source": [
        "2. The family has decided to travel by road from Dharwad to Belagavi, and they have\n",
        "chosen to estimate the cost before starting on this journey. Write python code to create\n",
        "the parent class Travel with member functions include the number of passengers, the\n",
        "distance travelled, and the mode of transportation. Derive two subclasses, train and bus,\n",
        "from the parent class, each with a member function that calculates the cost of trip. Also,\n",
        "keep the numbers of passengers as a private member of the parent class and try to access\n",
        "it through the child class to estimate costs.\n",
        "[Note: Assume cost of travelling/person through train = 60 rs, cost of travelling /person\n",
        "through bus= 100 rs]."
      ]
    },
    {
      "cell_type": "code",
      "metadata": {
        "colab": {
          "base_uri": "https://localhost:8080/"
        },
        "id": "Ohj18s3RsEEr",
        "outputId": "d81e843c-3d41-4cc9-8ac1-4b168c201488"
      },
      "source": [
        "class travel:\n",
        "  def __init__(self,passengers,distance,mode):\n",
        "    self.__passengers = passengers\n",
        "    self.distance = distance\n",
        "    self.mode = mode\n",
        "\n",
        "  def get_passengers(self):\n",
        "    return self.__passengers\n",
        "\n",
        "class train(travel):\n",
        "  def __init__(self,passengers,distance):\n",
        "    super().__init__(passengers,distance,'Train')\n",
        "\n",
        "  def cost(self):\n",
        "    return print(\"Cost of trip by train : \",self.get_passengers()*60)\n",
        "\n",
        "class bus(travel):\n",
        "  def __init__(self,passengers,distance):\n",
        "    super().__init__(passengers,distance,'Bus')\n",
        "\n",
        "  def cost(self):\n",
        "    return print(\"\\nCost of trip by bus: \",self.get_passengers()*100)\n",
        "\n",
        "trainTrip = train(100,30)\n",
        "trainTrip.cost()\n",
        "\n",
        "busTrip = bus(100,30)\n",
        "busTrip.cost()"
      ],
      "execution_count": 26,
      "outputs": [
        {
          "output_type": "stream",
          "name": "stdout",
          "text": [
            "Cost of trip by train :  6000\n",
            "\n",
            "Cost of trip by bus:  10000\n"
          ]
        }
      ]
    },
    {
      "cell_type": "markdown",
      "metadata": {
        "id": "Zd-HMRkysExe"
      },
      "source": [
        "3. Assume that there a class Car with model number as its member variable. Write a python\n",
        "program to swap the values of model number in Car objects c1 and c2."
      ]
    },
    {
      "cell_type": "code",
      "metadata": {
        "colab": {
          "base_uri": "https://localhost:8080/"
        },
        "id": "BG3NCIHksFfP",
        "outputId": "8734671b-cfc9-4c74-db10-12f00bbedca2"
      },
      "source": [
        "class car:\n",
        "  def __init__(self,model):\n",
        "    self.model = model\n",
        "  \n",
        "  @classmethod\n",
        "  def swap(cls,c1,c2):\n",
        "    print(\"Befor swap : \")\n",
        "    print(\"\\ncar 1 : \",c1.model + \"\\ncar 2 : \",c2.model)\n",
        "    c1.model,c2.model = c2.model,c1.model\n",
        "    print(\"\\nAfter swap : \")\n",
        "    print(\"\\ncar 1 : \",c1.model + \"\\ncar 2 : \",c2.model)\n",
        "\n",
        "c1 = car('Audi A6')\n",
        "c2 = car('Lamborghini')\n",
        "car.swap(c1,c2)"
      ],
      "execution_count": 34,
      "outputs": [
        {
          "output_type": "stream",
          "name": "stdout",
          "text": [
            "Befor swap : \n",
            "\n",
            "car 1 :  Audi A6\n",
            "car 2 :  Lamborghini\n",
            "\n",
            "After swap : \n",
            "\n",
            "car 1 :  Lamborghini\n",
            "car 2 :  Audi A6\n"
          ]
        }
      ]
    }
  ]
}