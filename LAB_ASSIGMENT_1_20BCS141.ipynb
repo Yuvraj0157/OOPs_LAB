{
  "nbformat": 4,
  "nbformat_minor": 0,
  "metadata": {
    "colab": {
      "name": "LAB ASSIGMENT 1 - 20BCS141.ipynb",
      "provenance": [],
      "collapsed_sections": []
    },
    "kernelspec": {
      "name": "python3",
      "display_name": "Python 3"
    },
    "language_info": {
      "name": "python"
    }
  },
  "cells": [
    {
      "cell_type": "markdown",
      "metadata": {
        "id": "3NNEe96DOsog"
      },
      "source": [
        "**Problem-I**  \n",
        "An extra day is added to the calendar almost every four years as February 29, and the day is called a leap day. It corrects the calendar for the fact that our planet takes approximately 365.25 days to orbit the sun. A leap year contains a leap day.\n",
        "In the Gregorian calendar, three conditions are used to identify leap years:\n",
        "1.\tThe year can be evenly divided by 4, is a leap year, unless:\n",
        "2.\tThe year can be evenly divided by 100, it is NOT a leap year, unless:\n",
        "3.\tThe year is also evenly divisible by 400. Then it is a leap year.\n",
        "\n",
        "Write function to decide whether it is a leap year. If it is a leap year, return the Boolean True, otherwise return False.\n"
      ]
    },
    {
      "cell_type": "code",
      "metadata": {
        "colab": {
          "base_uri": "https://localhost:8080/"
        },
        "id": "G72wr5ZHO4VZ",
        "outputId": "cd37fa36-758b-47df-efa9-fbd61da742d5"
      },
      "source": [
        "def is_leap(year):\n",
        "  year = int(input(\"Enter year to check whether it's a leap year or not \\n\"))\n",
        "  if (year % 4)==0 :\n",
        "      if (year % 100) == 0 :\n",
        "          if (year % 400)==0 :\n",
        "              return True\n",
        "          else : return False\n",
        "      else : return True\n",
        "  else : return False   \n",
        "\n",
        "leap()     "
      ],
      "execution_count": null,
      "outputs": [
        {
          "name": "stdout",
          "output_type": "stream",
          "text": [
            "Enter year to check whether it's a leap year or not \n",
            "2020\n"
          ]
        },
        {
          "output_type": "execute_result",
          "data": {
            "text/plain": [
              "True"
            ]
          },
          "metadata": {},
          "execution_count": 37
        }
      ]
    },
    {
      "cell_type": "markdown",
      "metadata": {
        "id": "9OBgd4GSisQf"
      },
      "source": [
        "**Problem-II**\n",
        "\n",
        "Given an integer ‘n’, write a python code to perform the following conditional actions:\n",
        "1.\tIf ‘n’ is odd, print Weird\n",
        "2.\tIf ‘n’ is even and in the inclusive range of 2 to 5, print Not Weird\n",
        "3.\tIf ‘n’ is even and in the inclusive range of 6 to 20, print Weird\n",
        "4.\tIf ‘n’ is even and greater than 20, print Not Weird\n"
      ]
    },
    {
      "cell_type": "code",
      "metadata": {
        "colab": {
          "base_uri": "https://localhost:8080/"
        },
        "id": "4Nanm44-ixxp",
        "outputId": "2bb8e6e5-be44-473a-f488-5a0ec2bab10c"
      },
      "source": [
        "n = int(input(\"Enter Integer \\n\"))\n",
        "if n%2 == 0 :\n",
        "  if n in range(2,6) :\n",
        "    print(\"Not Wierd\")\n",
        "  elif n in range(6,21) :\n",
        "    print(\"Wierd\")\n",
        "  elif n>20 :\n",
        "    print(\"Not Wierd\")\n",
        "else :\n",
        "  print(\"Wierd\")     \n"
      ],
      "execution_count": null,
      "outputs": [
        {
          "output_type": "stream",
          "name": "stdout",
          "text": [
            "Enter Integer \n",
            "4\n",
            "Not Wierd\n"
          ]
        }
      ]
    },
    {
      "cell_type": "markdown",
      "metadata": {
        "id": "mTMmy2S9mkKz"
      },
      "source": [
        "**Problem-III**\n",
        "\n",
        "The following list represents a party with 7 guests, in which ‘Hardik’ showed up first and ‘Rahane’ was the last to arrive:\n",
        "\n",
        "    Arrivals = ['Hardik', 'Rahul', 'Virat', 'Rishabh’, ‘Mahi’ 'Rohit', 'Rahane']\n",
        "\n",
        "A guest is considered 'fashionably late' if they arrived after at least half of the party's guests. However, they must not be the very last guest (that's taking it too far). In the above example, ‘rishabh’, ‘Mahi’ and ‘Rohit’ are the only guests who were fashionably late.\n",
        "\n",
        "Write the function which takes a list of party attendees as well as a person, and tells us whether that person is fashionably late.\n"
      ]
    },
    {
      "cell_type": "code",
      "metadata": {
        "colab": {
          "base_uri": "https://localhost:8080/"
        },
        "id": "XSjCMw_emtPn",
        "outputId": "c39eb737-13bb-4890-e30d-6c50e855bc42"
      },
      "source": [
        "def fash_late(l):\n",
        "  x = str(input(\"Enter person name\\n\"))\n",
        "  y = l[len(l)//2 : len(l)-1]\n",
        "  if x in y :  \n",
        "    return print(\"{} is fashionably late.\".format(x))\n",
        "  elif x in l :\n",
        "    print(\"{} is not late.\".format(x)) \n",
        "  else :\n",
        "    print(\"{} is not in the party.\".format(x))       \n",
        "\n",
        "fash_late(['Hardik','Rahul','Virat','Rishabh','Mahi','Rohit','Rahane'])\n"
      ],
      "execution_count": 97,
      "outputs": [
        {
          "output_type": "stream",
          "name": "stdout",
          "text": [
            "Enter person name\n",
            "Mahi\n",
            "Mahi is fashionably late.\n"
          ]
        }
      ]
    },
    {
      "cell_type": "markdown",
      "metadata": {
        "id": "ov1Z6wJe0GXD"
      },
      "source": [
        "**Problem-IV**\n",
        "\n",
        "A researcher has gathered thousands of news articles. But she wants to focus her attention on articles including a specific word. Write a function to help her filter her list of articles.\n",
        "Your function should meet the following criteria:\n",
        "1.\tDo not include documents where the keyword string shows up only as a part of a larger word. For example, if she were looking for the keyword “closed”, you would not include the string “enclosed.”\n",
        "2.\tShe does not want you to distinguish upper case from lower case letters. So the phrase “Closed the case.” would be included when the keyword is “closed”\n",
        "3.\tDo not let periods or commas affect what is matched. “It is closed.” would be included when the keyword is “closed”. But you can assume there are no other types of punctuation.\n",
        "\n",
        "Assume, doc_list = [\"The Learn Python Challenge Rohit.\", \"They bought a car\", \"bangalore\"]\n"
      ]
    },
    {
      "cell_type": "code",
      "metadata": {
        "id": "UnUKHDDw0JzD",
        "colab": {
          "base_uri": "https://localhost:8080/"
        },
        "outputId": "077d320a-96cd-4b7b-a9e0-bdd714846172"
      },
      "source": [
        "\n",
        "def search(doc, keyw):\n",
        "  l = []\n",
        "  for i in range(len(doc)):\n",
        "    y = doc[i].lower()\n",
        "    for j in y :\n",
        "      y = y.replace('.', '')\n",
        "      y = y.replace(',','')\n",
        "    x = y.split()\n",
        "    l.append(x)\n",
        "    if keyw in x :\n",
        "      print(doc[i])\n",
        "      return\n",
        "\n",
        "  print(\"Keyword not found !!\")  \n",
        "\n",
        "search([\"The Learn Python Challenge Rohit.\", \"They bought a car\", \"bangalore\"],'rohit')\n"
      ],
      "execution_count": 96,
      "outputs": [
        {
          "output_type": "stream",
          "name": "stdout",
          "text": [
            "The Learn Python Challenge Rohit.\n"
          ]
        }
      ]
    },
    {
      "cell_type": "markdown",
      "metadata": {
        "id": "_zE0U6JJ0KND"
      },
      "source": [
        "**Problem-V**\n",
        "\n",
        "An Employee's Basic Pay (BP) is to be read from user. DA is 40% of BP, HRA is 20% of BP, and write a function to calculate the Gross Pay (GP) GP is computed as BP + DA + HRA.\n"
      ]
    },
    {
      "cell_type": "code",
      "metadata": {
        "id": "YvEXT3d_0Q8N",
        "colab": {
          "base_uri": "https://localhost:8080/"
        },
        "outputId": "96a77e6a-264b-41c3-f854-8a1e97eb199a"
      },
      "source": [
        "def gp():\n",
        "  bp = float(input(\"Enter Basic Pay \\n\"))\n",
        "  da = 0.4*(bp)\n",
        "  hra = 0.2*(bp)\n",
        "  return print(\"Gross Pay is : \",bp+da+hra)\n",
        "\n",
        "gp()  "
      ],
      "execution_count": null,
      "outputs": [
        {
          "output_type": "stream",
          "name": "stdout",
          "text": [
            "Enter Basic Pay \n",
            "10001\n",
            "Gross Pay is :  16001.6\n"
          ]
        }
      ]
    }
  ]
}