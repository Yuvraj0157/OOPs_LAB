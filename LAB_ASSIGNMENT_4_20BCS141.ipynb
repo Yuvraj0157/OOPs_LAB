{
  "nbformat": 4,
  "nbformat_minor": 0,
  "metadata": {
    "colab": {
      "name": "LAB ASSIGNMENT-4_20BCS141.ipynb",
      "provenance": [],
      "collapsed_sections": [],
      "authorship_tag": "ABX9TyO6muDPyjR711AzyLtx8oIa",
      "include_colab_link": true
    },
    "kernelspec": {
      "name": "python3",
      "display_name": "Python 3"
    },
    "language_info": {
      "name": "python"
    }
  },
  "cells": [
    {
      "cell_type": "markdown",
      "metadata": {
        "id": "view-in-github",
        "colab_type": "text"
      },
      "source": [
        "<a href=\"https://colab.research.google.com/github/Yuvraj0157/OOPs_LAB/blob/main/LAB_ASSIGNMENT_4_20BCS141.ipynb\" target=\"_parent\"><img src=\"https://colab.research.google.com/assets/colab-badge.svg\" alt=\"Open In Colab\"/></a>"
      ]
    },
    {
      "cell_type": "markdown",
      "metadata": {
        "id": "e65LqZowfsbK"
      },
      "source": [
        "NAME - YUVRAJ SINGH\n",
        "\n",
        "ROLL NO. - 20BCS141"
      ]
    },
    {
      "cell_type": "markdown",
      "metadata": {
        "id": "oJaKR_nefr8P"
      },
      "source": [
        "1.Write a python code to create a class node with data and address of next node as\n",
        "parameters. Derive stack class from node class with top position or head node position as a\n",
        "parameter and also perform the following operations.\n",
        "\n",
        "a. Check stack is empty\n",
        "\n",
        "b. Add data to stack\n",
        "\n",
        "c. Delete data from the stack.\n",
        "\n",
        "d. Display the elements of the stack.\n",
        "\n",
        "e. Deallocate the memory assigned to each node using destructors."
      ]
    },
    {
      "cell_type": "code",
      "metadata": {
        "colab": {
          "base_uri": "https://localhost:8080/"
        },
        "id": "GBaEjRGOgxqk",
        "outputId": "187a5256-5784-42dc-9b4c-99c16e71f33a"
      },
      "source": [
        "class Node:\n",
        "    def __init__(self,data):\n",
        "        self.data = data\n",
        "        self.next = None\n",
        "\n",
        "class Stack:\n",
        "    def __init__(self):\n",
        "        self.head = None\n",
        "\n",
        "    def isEmpty(self):\n",
        "       if self.head == None :\n",
        "         return print('\\nStack is Empty!')\n",
        "       else:\n",
        "         return print('\\nQueue is not empty.')\n",
        "\n",
        "    def display(self):\n",
        "        temp = self.head\n",
        "        print(\"\\nElements in Stack : \", end='')\n",
        "        while temp:\n",
        "            print(temp.data, end=\", \")\n",
        "            temp = temp.next\n",
        "\n",
        "    def push(self, data):\n",
        "\n",
        "        if self.head is None:\n",
        "            self.head = Node(data)\n",
        "        else:\n",
        "            temp = Node(data)\n",
        "            temp.next=self.head\n",
        "            self.head=temp\n",
        "\n",
        "    def pop(self):\n",
        "\n",
        "        if self.head is None:\n",
        "            print('\\nStack is Empty !')\n",
        "            return None\n",
        "\n",
        "        else:\n",
        "            poped = self.head.data\n",
        "            self.head = self.head.next\n",
        "            return print('\\nDeleted : ',poped)\n",
        "\n",
        "\n",
        "stack = Stack()\n",
        "print('1.Check stack is empty\\n2.Push\\n3.Pop\\n4.Display\\n5.Exit')\n",
        "while True:\n",
        "  n=int(input('\\nEnter your option:'))\n",
        "  if n == 1:\n",
        "    stack.isEmpty()\n",
        "  elif n == 2:\n",
        "    d=int(input('\\nEnter data:'))\n",
        "    stack.push(d)\n",
        "  elif n == 3:\n",
        "    stack.pop()\n",
        "  elif n == 4:\n",
        "    stack.display()\n",
        "  else:\n",
        "    break"
      ],
      "execution_count": 63,
      "outputs": [
        {
          "name": "stdout",
          "output_type": "stream",
          "text": [
            "\n",
            "Memory Deallocated !!\n",
            "1.Check stack is empty\n",
            "2.Push\n",
            "3.Pop\n",
            "4.Display\n",
            "5.Exit\n",
            "\n",
            "Enter your option:2\n",
            "\n",
            "Enter data:11\n",
            "\n",
            "Enter your option:2\n",
            "\n",
            "Enter data:22\n",
            "\n",
            "Enter your option:2\n",
            "\n",
            "Enter data:33\n",
            "\n",
            "Enter your option:3\n",
            "\n",
            "Deleted :  33\n",
            "\n",
            "Enter your option:4\n",
            "\n",
            "Elements in Stack : 22, 11, \n",
            "Enter your option:5\n"
          ]
        }
      ]
    },
    {
      "cell_type": "markdown",
      "metadata": {
        "id": "rXBTy6-SgH20"
      },
      "source": [
        "2.Write a python code to calculate the area of a rectangle using parametrized and default\n",
        "constructors."
      ]
    },
    {
      "cell_type": "code",
      "metadata": {
        "id": "ybnnGUqbgP8v",
        "colab": {
          "base_uri": "https://localhost:8080/"
        },
        "outputId": "0a430d01-2fe5-4369-b1ef-8241344d661e"
      },
      "source": [
        "class Rectangle:\n",
        "    def __init__(self,length = 2,breadth = 2):              # Default constructor\n",
        "        self.length = length                                \n",
        "        self.breadth = breadth\n",
        "    \n",
        "    def Area(self):\n",
        "        return print(\"Area : \",self.length*self.breadth)\n",
        "\n",
        "rect_a = Rectangle()\n",
        "rect_a.Area()\n",
        "rect_b = Rectangle(2,10)\n",
        "rect_b.Area()"
      ],
      "execution_count": 36,
      "outputs": [
        {
          "output_type": "stream",
          "name": "stdout",
          "text": [
            "Area :  4\n",
            "Area :  20\n"
          ]
        }
      ]
    },
    {
      "cell_type": "markdown",
      "metadata": {
        "id": "u20VyGR_gQ0q"
      },
      "source": [
        "3.Write a python program to implement queue operations using constructors and destructors.\n",
        "\n",
        "[Note: destructors are used to deallocate the memory assigned to each node]"
      ]
    },
    {
      "cell_type": "code",
      "metadata": {
        "id": "OJO_dyGCgWAp",
        "colab": {
          "base_uri": "https://localhost:8080/"
        },
        "outputId": "4d3fed48-2fe5-4e8f-cdaa-48b3a10d841e"
      },
      "source": [
        "class Node:\n",
        "    def __init__(self,data):\n",
        "        self.data = data\n",
        "        self.next = None\n",
        "    \n",
        "    \n",
        "\n",
        "class Queue:\n",
        "    def __init__(self):\n",
        "        self.head = None\n",
        "\n",
        "    def isEmpty(self):\n",
        "      if self.head is None:\n",
        "            return print('\\nQueue is Empty')\n",
        "      else:\n",
        "        return print('\\nQueue is not empty.')\n",
        "\n",
        "    def display(self):\n",
        "        temp = self.head\n",
        "        print(\"\\nElements in Queue : \",end='')\n",
        "        while temp:\n",
        "            print(temp.data, end=\", \")\n",
        "            temp = temp.next\n",
        "\n",
        "    def enqueue(self, data):\n",
        "\n",
        "        if self.head is None:\n",
        "            self.head = Node(data)\n",
        "        else:\n",
        "            temp = self.head\n",
        "            while temp.next is not None:\n",
        "                temp = temp.next\n",
        "            temp.next = Node(data)\n",
        "\n",
        "    def dequeue(self):\n",
        "\n",
        "        if self.head is None:\n",
        "            return print('\\nQueue is Empty !')\n",
        "        else:\n",
        "            data=self.head.data\n",
        "            self.head=self.head.next\n",
        "            return print('\\nDeleted : ',data)\n",
        "            \n",
        "\n",
        "queue = Queue()\n",
        "print('1.Check queue is empty\\n2.Enqueue\\n3.Dequeue\\n4.Display\\n5.Exit')\n",
        "while True:\n",
        "  n=int(input('\\nEnter your option:'))\n",
        "  if n == 1:\n",
        "    queue.isEmpty()\n",
        "  elif n == 2:\n",
        "    d=int(input('\\nEnter data:'))\n",
        "    queue.enqueue(d)\n",
        "  elif n == 3:\n",
        "    queue.dequeue()\n",
        "  elif n == 4:\n",
        "    queue.display()\n",
        "  else:\n",
        "    break"
      ],
      "execution_count": 60,
      "outputs": [
        {
          "name": "stdout",
          "output_type": "stream",
          "text": [
            "1.Check queue is empty\n",
            "2.Enqueue\n",
            "3.Dequeue\n",
            "4.Display\n",
            "5.Exit\n",
            "\n",
            "Enter your option:2\n",
            "\n",
            "Enter data:11\n",
            "\n",
            "Enter your option:2\n",
            "\n",
            "Enter data:33\n",
            "\n",
            "Enter your option:3\n",
            "\n",
            "Deleted :  11\n",
            "\n",
            "Enter your option:3\n",
            "\n",
            "Deleted :  33\n",
            "\n",
            "Enter your option:5\n"
          ]
        }
      ]
    }
  ]
}