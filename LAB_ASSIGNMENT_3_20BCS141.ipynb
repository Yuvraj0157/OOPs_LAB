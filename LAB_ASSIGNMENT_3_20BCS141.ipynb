{
  "nbformat": 4,
  "nbformat_minor": 0,
  "metadata": {
    "colab": {
      "name": "LAB ASSIGNMENT-3_20BCS141.ipynb",
      "provenance": [],
      "collapsed_sections": [],
      "authorship_tag": "ABX9TyMYLDSoCAT14iZh68+1Mv5P",
      "include_colab_link": true
    },
    "kernelspec": {
      "name": "python3",
      "display_name": "Python 3"
    },
    "language_info": {
      "name": "python"
    }
  },
  "cells": [
    {
      "cell_type": "markdown",
      "metadata": {
        "id": "view-in-github",
        "colab_type": "text"
      },
      "source": [
        "<a href=\"https://colab.research.google.com/github/Yuvraj0157/OOPs_LAB/blob/main/LAB_ASSIGNMENT_3_20BCS141.ipynb\" target=\"_parent\"><img src=\"https://colab.research.google.com/assets/colab-badge.svg\" alt=\"Open In Colab\"/></a>"
      ]
    },
    {
      "cell_type": "markdown",
      "metadata": {
        "id": "XmRmxtheqSUW"
      },
      "source": [
        "**NAME - YUVRAJ SINGH**\n",
        "\n",
        "**ROLL NO. - 20BCS141**"
      ]
    },
    {
      "cell_type": "markdown",
      "metadata": {
        "id": "dqk8nyYkqiIZ"
      },
      "source": [
        "1. Write a python program to demonstrate the inheritance principle of OOP. Create a\n",
        "Student class that includes student’s basic information : Name, Reg no, Age, Gender,\n",
        "Branch, Sem. Define functions to read and display basic information. Create a new class\n",
        "StudentResultInfo that inherits from Student class. Derived class will include student’s\n",
        "total marks, percentage and grade. Display student’s basic information and result\n",
        "information using derived class."
      ]
    },
    {
      "cell_type": "code",
      "metadata": {
        "colab": {
          "base_uri": "https://localhost:8080/"
        },
        "id": "8l0lBXmuqLWZ",
        "outputId": "d5b7999c-a23a-49b2-c6d6-018d4de6fc77"
      },
      "source": [
        "class student :\n",
        "  def __init__(self):\n",
        "    self.name = input(\"Name : \")\n",
        "    self.reg = input(\"Reg No. : \")\n",
        "    self.age = input(\"Age : \")\n",
        "    self.gender = input(\"Gender : \")\n",
        "    self.sem = input(\"Semester : \")\n",
        "  def display(self):\n",
        "    print(\"\\n--------- Displaying Student Details --------\\n\")\n",
        "    print(\"\\nName : \" + self.name + \"\\nRoll No. : \" + self.reg + \"\\nSemester : \" + self.sem + \"\\nAge : \" + self.age + \"\\nGender : \" +self.gender)\n",
        "\n",
        "class StudentResultInfo(student):\n",
        "  def __init__(self):\n",
        "    student.__init__(self)\n",
        "    self.marks = input(\"Marks : \")\n",
        "    self.percentage = input(\"Percentage : \")\n",
        "    self.grade = input(\"Grade : \")\n",
        "    \n",
        "  def show(self):\n",
        "    print(\"Total Marks : \" + self.marks + \"\\nPercentage : \" + self.percentage + \"\\nGrade : \" + self.grade)\n",
        "\n",
        "m = StudentResultInfo()\n",
        "m.display()\n",
        "m.show()\n"
      ],
      "execution_count": null,
      "outputs": [
        {
          "output_type": "stream",
          "name": "stdout",
          "text": [
            "Name : Yuvraj\n",
            "Reg No. : 141\n",
            "Age : 19\n",
            "Gender : M\n",
            "Semester : 3rd\n",
            "Marks : 95\n",
            "Percentage : 95\n",
            "Grade : A\n",
            "\n",
            "--------- Displaying Student Details --------\n",
            "\n",
            "\n",
            "Name : Yuvraj\n",
            "Roll No. : 141\n",
            "Semester : 3rd\n",
            "Age : 19\n",
            "Gender : M\n",
            "Total Marks : 95\n",
            "Percentage : 95\n",
            "Grade : A\n"
          ]
        }
      ]
    },
    {
      "cell_type": "markdown",
      "metadata": {
        "id": "4ycPxKQgqnQI"
      },
      "source": [
        "2. Imagine you&#39;re writing a Content Management system - this system will store two types\n",
        "of documents.\n",
        " PDFs (who created, description, file size)\n",
        " Pictures (who created, description, image dimensions, file size)\n",
        "Imagine you&#39;re now asked to add a few features:\n",
        "o Checking to see whether the file size is beyond a certain threshold.\n",
        "o Display the details of document.\n",
        "o Checking to see whether it&#39;s too high of dimension of picture.\n",
        "\n",
        "Note: use inheritance concept to reduce length of code."
      ]
    },
    {
      "cell_type": "code",
      "metadata": {
        "id": "IcKtBvBbqzhl",
        "colab": {
          "base_uri": "https://localhost:8080/"
        },
        "outputId": "3bb0d929-cc45-41ae-ccaa-42ed45594f43"
      },
      "source": [
        "class pdf :\n",
        "  def __init__(self,creator,description,size):\n",
        "    self.creator = creator\n",
        "    self.description = description\n",
        "    self.size = size\n",
        "\n",
        "  def size_threshold(self):\n",
        "    if self.size > 100:\n",
        "      print(\"\\nFile size is beyond threshold.\")\n",
        "    else :\n",
        "      print(\"\\nFile size is within threshold.\")\n",
        "\n",
        "  def display_pdf(self):\n",
        "    print(\"\\nCreator:\",self.creator)\n",
        "    print(\"Description:\", self.description)\n",
        "    print(\"File size (KB):\", self.size)\n",
        "\n",
        "class picture(pdf):\n",
        "  def __init__(self,creator,description,size,dimension):\n",
        "    pdf.__init__(self,creator,description,size)\n",
        "    self.dimension = dimension\n",
        "\n",
        "  def dimension_threshold(self):\n",
        "    self.size_threshold()\n",
        "    if self.dimension > 1000:\n",
        "      print(\"\\nFile dimension is beyond threshold.\")\n",
        "    else :\n",
        "      print(\"\\nFile dimension is within threshold.\")\n",
        "  \n",
        "  def display_picture(self):\n",
        "    self.display_pdf()\n",
        "    print(\"Dimensions (pixels):\", self.dimension)\n",
        "\n",
        "pic = picture('Yuvraj','Good Evening!!',110,1200)\n",
        "pic.display_picture()\n",
        "pic.dimension_threshold()\n",
        "\n",
        "pdf = pdf('OOP','Task-3',99)\n",
        "pdf.display_pdf()\n",
        "pdf.size_threshold()"
      ],
      "execution_count": 2,
      "outputs": [
        {
          "output_type": "stream",
          "name": "stdout",
          "text": [
            "\n",
            "Creator: Yuvraj\n",
            "Description: Good Evening!!\n",
            "File size (KB): 110\n",
            "Dimensions (pixels): 1200\n",
            "\n",
            "File size is beyond threshold.\n",
            "\n",
            "File dimension is beyond threshold.\n",
            "\n",
            "Creator: OOP\n",
            "Description: Task-3\n",
            "File size (KB): 99\n",
            "\n",
            "File size is within threshold.\n"
          ]
        }
      ]
    },
    {
      "cell_type": "markdown",
      "metadata": {
        "id": "Y2PPOIASq0Kd"
      },
      "source": [
        "3. Create vehicle class with data member’s name, mileage and capacity and member\n",
        "function bus fare. Create a Bus child class that inherits from the Vehicle class. The\n",
        "default fare charge of any vehicle is seating capacity * 100. If Vehicle is Bus instance,\n",
        "we need to add an extra 10% on full fare as a maintenance charge. So total fare for bus\n",
        "instance will become the final amount = total fare + 10% of the total fare.\n",
        "Note: The bus seating capacity is 50."
      ]
    },
    {
      "cell_type": "code",
      "metadata": {
        "colab": {
          "base_uri": "https://localhost:8080/"
        },
        "id": "GIe4IY5Pq8LQ",
        "outputId": "61e0a884-4f7d-46ca-ef54-ae49f93502db"
      },
      "source": [
        "class vehicle :\n",
        "  def __init__(self,name,mileage,capacity):\n",
        "    self.name = name\n",
        "    self.mileage = mileage\n",
        "    self.capacity = capacity\n",
        "  def fare(self):\n",
        "    return print(\"Fare : \",self.capacity * 100)\n",
        "\n",
        "class Bus(vehicle):\n",
        "\n",
        "  def fare(self):\n",
        "        f = self.capacity * 100 \n",
        "        total_fare = f + (0.1 *f)\n",
        "        return print(\"Bus Fare : \",total_fare)\n",
        "\n",
        "Bus = Bus('volvo',20,50)\n",
        "Bus.fare()\n",
        "car = vehicle('Audi A6',10,50)\n",
        "car.fare()"
      ],
      "execution_count": null,
      "outputs": [
        {
          "output_type": "stream",
          "name": "stdout",
          "text": [
            "Bus Fare :  5500.0\n",
            "Fare :  5000\n"
          ]
        }
      ]
    }
  ]
}