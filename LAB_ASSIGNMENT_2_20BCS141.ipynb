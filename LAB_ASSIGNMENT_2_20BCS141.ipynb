{
  "nbformat": 4,
  "nbformat_minor": 0,
  "metadata": {
    "colab": {
      "name": "LAB ASSIGNMENT-2_20BCS141.ipynb",
      "provenance": [],
      "collapsed_sections": [],
      "authorship_tag": "ABX9TyPQbUyMAk9xhRa6BkTHIV1a",
      "include_colab_link": true
    },
    "kernelspec": {
      "name": "python3",
      "display_name": "Python 3"
    },
    "language_info": {
      "name": "python"
    }
  },
  "cells": [
    {
      "cell_type": "markdown",
      "metadata": {
        "id": "view-in-github",
        "colab_type": "text"
      },
      "source": [
        "<a href=\"https://colab.research.google.com/github/Yuvraj0157/OOPs_LAB/blob/main/LAB_ASSIGNMENT_2_20BCS141.ipynb\" target=\"_parent\"><img src=\"https://colab.research.google.com/assets/colab-badge.svg\" alt=\"Open In Colab\"/></a>"
      ]
    },
    {
      "cell_type": "markdown",
      "metadata": {
        "id": "1E92O-1Ekv_y"
      },
      "source": [
        "**LAB ASSIGNMENT -2**\n",
        "\n",
        "**NAME : YUVRAJ SINGH**\n",
        "\n",
        "**ROLL NO. : 20BCS141**"
      ]
    },
    {
      "cell_type": "markdown",
      "metadata": {
        "id": "3Ck-nWF6uawY"
      },
      "source": [
        "1.\t Create a python class circle, constructed by a radius and two methods that will compute the area and the perimeter of a circle."
      ]
    },
    {
      "cell_type": "code",
      "metadata": {
        "colab": {
          "base_uri": "https://localhost:8080/"
        },
        "id": "sKuyUUPdubMf",
        "outputId": "df47ddea-dcb4-4954-90f6-995242805b9b"
      },
      "source": [
        "class circle:\n",
        "  def __init__(self,radius):\n",
        "    self.radius = radius\n",
        "  def area(self):\n",
        "    return print(\"Area : \",pi*(self.radius)**2)\n",
        "  def perimeter(self):\n",
        "    return print(\"Perimeter : \",2*pi*(self.radius))\n",
        "\n",
        "c1 = circle(4)\n",
        "c1.area()\n",
        "c1.perimeter()"
      ],
      "execution_count": null,
      "outputs": [
        {
          "output_type": "stream",
          "name": "stdout",
          "text": [
            "Area :  50.26548245743669\n",
            "Perimeter :  25.132741228718345\n"
          ]
        }
      ]
    },
    {
      "cell_type": "markdown",
      "metadata": {
        "id": "40DxVnHPuboE"
      },
      "source": [
        "2.\tWrite a python program to enter the data of a 5 teaching faculty and display it. (Data of a Faculty: Name, Emp ID, Branch, Salary)."
      ]
    },
    {
      "cell_type": "code",
      "metadata": {
        "colab": {
          "base_uri": "https://localhost:8080/"
        },
        "id": "kEMuhDuxucBD",
        "outputId": "b32cb57f-6ce8-4036-a68d-ef0d6b551648"
      },
      "source": [
        "\n",
        "class faculty : \n",
        "  def __init__(self):\n",
        "    self.name = []\n",
        "    self.id = []\n",
        "    self.branch = []\n",
        "    self.salary = []\n",
        "  def collect(self):\n",
        "    print(\"--------- Enter Faculty Details --------\\n\")\n",
        "    for i in range(0,5):\n",
        "      self.name.append(input(\"Faculty Name : \"))\n",
        "      self.id.append(input(\"Employee Id : \"))\n",
        "      self.branch.append(input(\"Branch : \"))\n",
        "      self.salary.append(input(\"Salary : \"))\n",
        "      print(\"\\n\")\n",
        "\n",
        "  def display(self):\n",
        "    print(\"--------- Displaying Faculty Details --------\\n\")\n",
        "    for i in range(0,5):\n",
        "      print(\"Faculty Name : \"+self.name[i] + '\\n' +\"Employee Id : \"+self.id[i]  + '\\n' +\"Branch : \"+self.branch[i] + '\\n' + \"Salary : \"+self.salary[i] + '\\n')\n",
        "\n",
        "f = faculty()\n",
        "f.collect()\n",
        "f.display()\n",
        "\n"
      ],
      "execution_count": null,
      "outputs": [
        {
          "output_type": "stream",
          "name": "stdout",
          "text": [
            "--------- Enter Faculty Details --------\n",
            "\n",
            "Faculty Name : Dr. Anand\n",
            "Employee Id : MA201\n",
            "Branch : CSE\n",
            "Salary : 100000\n",
            "\n",
            "\n",
            "Faculty Name : Dr. Uma\n",
            "Employee Id : CS207\n",
            "Branch : CSE\n",
            "Salary : 100000\n",
            "\n",
            "\n",
            "Faculty Name : Dr. Prabhu\n",
            "Employee Id : CS208\n",
            "Branch : CSE\n",
            "Salary : 100000\n",
            "\n",
            "\n",
            "Faculty Name : Dr. Malay\n",
            "Employee Id : CS202\n",
            "Branch : CSE\n",
            "Salary : 100000\n",
            "\n",
            "\n",
            "Faculty Name : Dr. Pramod\n",
            "Employee Id : CS201\n",
            "Branch : CSE\n",
            "Salary : 100000\n",
            "\n",
            "\n",
            "--------- Displaying Faculty Details --------\n",
            "\n",
            "Faculty Name : Dr. Anand\n",
            "Employee Id : MA201\n",
            "Branch : CSE\n",
            "Salary : 100000\n",
            "\n",
            "Faculty Name : Dr. Uma\n",
            "Employee Id : CS207\n",
            "Branch : CSE\n",
            "Salary : 100000\n",
            "\n",
            "Faculty Name : Dr. Prabhu\n",
            "Employee Id : CS208\n",
            "Branch : CSE\n",
            "Salary : 100000\n",
            "\n",
            "Faculty Name : Dr. Malay\n",
            "Employee Id : CS202\n",
            "Branch : CSE\n",
            "Salary : 100000\n",
            "\n",
            "Faculty Name : Dr. Pramod\n",
            "Employee Id : CS201\n",
            "Branch : CSE\n",
            "Salary : 100000\n",
            "\n"
          ]
        }
      ]
    },
    {
      "cell_type": "markdown",
      "metadata": {
        "id": "qXB0-_gWucV6"
      },
      "source": [
        "3.\tWrite a python program to demonstrate the working of the banking system.\n",
        "\n",
        "a.\tCreate account class with data members (Account No, Account holder name, Amount).\n",
        "\n",
        "b.\tCrete constructor to initialize data members.\n",
        "\n",
        "c.\tCreate member functions (Deposit, withdraw, check balance, and display account details).\n"
      ]
    },
    {
      "cell_type": "code",
      "metadata": {
        "id": "YDWs4P3ducpu",
        "colab": {
          "base_uri": "https://localhost:8080/"
        },
        "outputId": "12a699cc-6859-4414-f861-3c2773747f92"
      },
      "source": [
        "\n",
        "class account:\n",
        "  def __init__(self):\n",
        "    self.amount= 0.00\n",
        "    self.balance = 0.00\n",
        "  def deposit(self):\n",
        "    print(\"----------- Welcome to XYZ Bank -------------\\n\")\n",
        "    self.number = int(input(\"Enter your account number : \"))\n",
        "    self.name = input(\"Enter your name : \")\n",
        "    self.balance = float(input(\"Enter Deposit Amount : \"))\n",
        "    print(\"\\nRs.{} deposited succesfully!!\\n\".format(self.balance))\n",
        "\n",
        "  def withdrew(self):\n",
        "    self.amount = float(input(\"Enter Withdraw Amount : \"))\n",
        "    if self.amount<=self.balance :\n",
        "      print(\"\\nRs.{} withdrawn succesfully!!\\n\".format(self.amount))\n",
        "    else : \n",
        "      print(\"Insufficient Balance!!\\n\")\n",
        "      self.withdrew()\n",
        "\n",
        "  def Balance(self):\n",
        "    print(\"--------- Displaying Account Balance --------\\n\")\n",
        "    print(\"Balance : Rs.{} \\n\".format(self.balance - self.amount))\n",
        "\n",
        "  def display(self):\n",
        "    print(\"--------- Displaying Account Details --------\\n\")\n",
        "    print(\"\\nAccount Number : \",self.number)\n",
        "    print(\"\\nAccount Holder Name : \",self.name)\n",
        "    print(\"\\nAccount Balance : \",self.balance - self.amount)\n",
        "  \n",
        "c=account()\n",
        "c.deposit()\n",
        "c.withdrew()\n",
        "c.Balance()\n",
        "c.display()\n"
      ],
      "execution_count": null,
      "outputs": [
        {
          "output_type": "stream",
          "name": "stdout",
          "text": [
            "----------- Welcome to XYZ Bank -------------\n",
            "\n",
            "Enter your account number : 1234567890\n",
            "Enter your name : Yuvraj Singh\n",
            "Enter Deposit Amount : 1000000000\n",
            "\n",
            "Rs.1000000000.0 deposited succesfully!!\n",
            "\n",
            "Enter Withdraw Amount : 10000000\n",
            "\n",
            "Rs.10000000.0 withdrawn succesfully!!\n",
            "\n",
            "--------- Displaying Account Balance --------\n",
            "\n",
            "Balance : Rs.990000000.0 \n",
            "\n",
            "--------- Displaying Account Details --------\n",
            "\n",
            "\n",
            "Account Number :  1234567890\n",
            "\n",
            "Account Holder Name :  Yuvraj Singh\n",
            "\n",
            "Account Balance :  990000000.0\n"
          ]
        }
      ]
    },
    {
      "cell_type": "markdown",
      "metadata": {
        "id": "VEAeCQZSuc9o"
      },
      "source": [
        "4. Write a python program to store and display the student name, USN, and marks of a student. Use the list to store the marks of a student in three subjects."
      ]
    },
    {
      "cell_type": "code",
      "metadata": {
        "id": "V-BSugIMvht1",
        "colab": {
          "base_uri": "https://localhost:8080/"
        },
        "outputId": "664d9bd2-98c2-468a-baa2-3f5590dfd5a1"
      },
      "source": [
        "class student:\n",
        "  def __init__(self):\n",
        "    self.name = []\n",
        "    self.usn = []\n",
        "    self.marks = []\n",
        "\n",
        "  def store(self):\n",
        "    self.name.append(input(\"Student Name : \"))\n",
        "    self.usn.append(input(\"Student USN : \"))\n",
        "    self.marks.append(input(\"Marks(use ,) : \"))\n",
        "\n",
        "  def display(self):\n",
        "    i=(len(self.name)-1)\n",
        "    for i in range(len(self.name)):\n",
        "      print(\"\\nStudent Name : \" + self.name[i])\n",
        "      print(\"Student USN : \" + self.usn[i])\n",
        "      print(\"Student marks : \" + self.marks[i])\n",
        "\n",
        "s = student()\n",
        "while(1):\n",
        "  print(\"\\n---- Please make choice ------\")\n",
        "  print(\"\\n 1)Store Student Details \\n 2)Display Student Details \\n 3)Exit\\n\")\n",
        "  n = int(input())\n",
        "  if n==1:\n",
        "    s.store()\n",
        "  elif n==2:\n",
        "    print(\"--------- Displaying Student Details --------\\n\")\n",
        "    s.display()\n",
        "  else :\n",
        "    break"
      ],
      "execution_count": null,
      "outputs": [
        {
          "name": "stdout",
          "output_type": "stream",
          "text": [
            "\n",
            "---- Please make choice ------\n",
            "\n",
            " 1)Store Student Details \n",
            " 2)Display Student Details \n",
            " 3)Exit\n",
            "\n",
            "1\n",
            "Student Name : Yuvraj\n",
            "Student USN : 141\n",
            "Marks(use ,) : 90,95,98\n",
            "\n",
            "---- Please make choice ------\n",
            "\n",
            " 1)Store Student Details \n",
            " 2)Display Student Details \n",
            " 3)Exit\n",
            "\n",
            "1\n",
            "Student Name : Siddhant\n",
            "Student USN : 121\n",
            "Marks(use ,) : 90,90,90\n",
            "\n",
            "---- Please make choice ------\n",
            "\n",
            " 1)Store Student Details \n",
            " 2)Display Student Details \n",
            " 3)Exit\n",
            "\n",
            "1\n",
            "Student Name : Amit\n",
            "Student USN : 12\n",
            "Marks(use ,) : 90,90,90\n",
            "\n",
            "---- Please make choice ------\n",
            "\n",
            " 1)Store Student Details \n",
            " 2)Display Student Details \n",
            " 3)Exit\n",
            "\n",
            "2\n",
            "--------- Displaying Student Details --------\n",
            "\n",
            "\n",
            "Student Name : Yuvraj\n",
            "Student USN : 141\n",
            "Student marks : 90,95,98\n",
            "\n",
            "Student Name : Siddhant\n",
            "Student USN : 121\n",
            "Student marks : 90,90,90\n",
            "\n",
            "Student Name : Amit\n",
            "Student USN : 12\n",
            "Student marks : 90,90,90\n",
            "\n",
            "---- Please make choice ------\n",
            "\n",
            " 1)Store Student Details \n",
            " 2)Display Student Details \n",
            " 3)Exit\n",
            "\n",
            "3\n"
          ]
        }
      ]
    },
    {
      "cell_type": "markdown",
      "metadata": {
        "id": "H-ohXft_viDi"
      },
      "source": [
        "5.\tA hospital wants to create a database regarding covid-19 patients. The information to store include: \n",
        "a) Name of the patient\n",
        " b) Date of admission. \n",
        "c) List of symptoms. \n",
        "d) Oxygen level.\n",
        "d) Date of discharge.\n",
        "\n",
        "Note: If the oxygen level is less than 90, then the patient is put on oxygen support else moved to the general ward for observation.\n",
        "Create a class to store the above information. The member function should include a function to enter patient’s information, check the severity, display the number of patients required oxygen support, number of patients in the general ward for observation, and the total number of patients admitted.\n"
      ]
    },
    {
      "cell_type": "code",
      "metadata": {
        "id": "jjw4UTkQvqbK",
        "colab": {
          "base_uri": "https://localhost:8080/"
        },
        "outputId": "67fdf583-1289-4b97-a878-c3397675b710"
      },
      "source": [
        "\n",
        "class hospital : \n",
        "  def __init__(self):\n",
        "    self.name = []\n",
        "    self.admit = []\n",
        "    self.symptoms = []\n",
        "    self.oxygen = []\n",
        "    self.discharge = []\n",
        "  def patient(self):\n",
        "    self.name.append(input(\"\\nPatient Name : \"))\n",
        "    self.admit.append(input(\"Date of Admission : \"))\n",
        "    self.symptoms.append(input(\"List of Symptoms : \"))\n",
        "    self.oxygen.append(int(input(\"Oxygen level : \")))\n",
        "    self.discharge.append(input(\"Date of Discharge : \"))\n",
        "  def  oxy_support(self):\n",
        "    count = 0\n",
        "    for x in range(len(self.oxygen)):\n",
        "        if self.oxygen[x] < 90 :\n",
        "          count = count + 1\n",
        "    return print(\"\\nNumber of patients required oxygen support : \",count)\n",
        "  def general(self):\n",
        "    count = 0\n",
        "    for x in range(len(self.oxygen)):\n",
        "        if self.oxygen[x] >= 90 :\n",
        "          count = count + 1\n",
        "    return print(\"\\nNumber of patients in general ward for observation : \",count)\n",
        "  def total(self):\n",
        "    return print(\"\\nTotal number of patients admitted : \",len(self.name))\n",
        "\n",
        "  def severity(self):\n",
        "    p = input(\"\\nPatient Name : \")\n",
        "    if p in self.name :\n",
        "      if self.oxygen[self.name.index(p)] < 90 :\n",
        "        return print(\"\\nPatient is in severe condition.\")\n",
        "      else :\n",
        "        print(\"\\nPatient is not in severe condition.\")\n",
        "    else :\n",
        "      print(\"\\nNo patient with this name !!\")\n",
        "\n",
        "c = hospital()\n",
        "while(1):\n",
        "  print(\"\\n---- Please make choice ------\")\n",
        "  print(\"\\n1) Patient's Info \\n2) Check patient's severity \\n3) Patients required oxygen support \\n4) Patients in general ward \\n5) Total Patients \\n6)Exit \\n\")\n",
        "  n = int(input())\n",
        "  if n == 1:\n",
        "    c.patient()\n",
        "  elif n == 2:\n",
        "    c.severity()\n",
        "  elif n == 3:\n",
        "    c.oxy_support()\n",
        "  elif n == 4:\n",
        "    c.general()\n",
        "  elif n == 5:\n",
        "    c.total()\n",
        "  else :\n",
        "    break"
      ],
      "execution_count": null,
      "outputs": [
        {
          "name": "stdout",
          "output_type": "stream",
          "text": [
            "\n",
            "---- Please make choice ------\n",
            "\n",
            "1) Patient's Info \n",
            "2) Check patient's severity \n",
            "3) Patients required oxygen support \n",
            "4) Patients in general ward \n",
            "5) Total Patients \n",
            "6)Exit \n",
            "\n",
            "1\n",
            "\n",
            "Patient Name : Yuvraj\n",
            "Date of Admission : 12-12-12\n",
            "List of Symptoms : migrane\n",
            "Oxygen level : 78\n",
            "Date of Discharge : 21-12-21\n",
            "\n",
            "---- Please make choice ------\n",
            "\n",
            "1) Patient's Info \n",
            "2) Check patient's severity \n",
            "3) Patients required oxygen support \n",
            "4) Patients in general ward \n",
            "5) Total Patients \n",
            "6)Exit \n",
            "\n",
            "1\n",
            "\n",
            "Patient Name : Siddhant\n",
            "Date of Admission : 21-12-21\n",
            "List of Symptoms : fever\n",
            "Oxygen level : 100\n",
            "Date of Discharge : 23-12-21\n",
            "\n",
            "---- Please make choice ------\n",
            "\n",
            "1) Patient's Info \n",
            "2) Check patient's severity \n",
            "3) Patients required oxygen support \n",
            "4) Patients in general ward \n",
            "5) Total Patients \n",
            "6)Exit \n",
            "\n",
            "1\n",
            "\n",
            "Patient Name : Harsh\n",
            "Date of Admission : 23-12-21\n",
            "List of Symptoms : breathlessness,fever\n",
            "Oxygen level : 66\n",
            "Date of Discharge : 23-01-22\n",
            "\n",
            "---- Please make choice ------\n",
            "\n",
            "1) Patient's Info \n",
            "2) Check patient's severity \n",
            "3) Patients required oxygen support \n",
            "4) Patients in general ward \n",
            "5) Total Patients \n",
            "6)Exit \n",
            "\n",
            "1\n",
            "\n",
            "Patient Name : Shubh\n",
            "Date of Admission : 23-01-22\n",
            "List of Symptoms : cold\n",
            "Oxygen level : 120\n",
            "Date of Discharge : 23-02-22\n",
            "\n",
            "---- Please make choice ------\n",
            "\n",
            "1) Patient's Info \n",
            "2) Check patient's severity \n",
            "3) Patients required oxygen support \n",
            "4) Patients in general ward \n",
            "5) Total Patients \n",
            "6)Exit \n",
            "\n",
            "2\n",
            "\n",
            "Patient Name : Yuvraj\n",
            "\n",
            "Patient is in severe condition.\n",
            "\n",
            "---- Please make choice ------\n",
            "\n",
            "1) Patient's Info \n",
            "2) Check patient's severity \n",
            "3) Patients required oxygen support \n",
            "4) Patients in general ward \n",
            "5) Total Patients \n",
            "6)Exit \n",
            "\n",
            "2\n",
            "\n",
            "Patient Name : Shubh\n",
            "\n",
            "Patient is not in severe condition.\n",
            "\n",
            "---- Please make choice ------\n",
            "\n",
            "1) Patient's Info \n",
            "2) Check patient's severity \n",
            "3) Patients required oxygen support \n",
            "4) Patients in general ward \n",
            "5) Total Patients \n",
            "6)Exit \n",
            "\n",
            "2\n",
            "\n",
            "Patient Name : Siddhant\n",
            "\n",
            "Patient is not in severe condition.\n",
            "\n",
            "---- Please make choice ------\n",
            "\n",
            "1) Patient's Info \n",
            "2) Check patient's severity \n",
            "3) Patients required oxygen support \n",
            "4) Patients in general ward \n",
            "5) Total Patients \n",
            "6)Exit \n",
            "\n",
            "2\n",
            "\n",
            "Patient Name : aman\n",
            "\n",
            "No patient with this name !!\n",
            "\n",
            "---- Please make choice ------\n",
            "\n",
            "1) Patient's Info \n",
            "2) Check patient's severity \n",
            "3) Patients required oxygen support \n",
            "4) Patients in general ward \n",
            "5) Total Patients \n",
            "6)Exit \n",
            "\n",
            "3\n",
            "\n",
            "Number of patients required oxygen support :  2\n",
            "\n",
            "---- Please make choice ------\n",
            "\n",
            "1) Patient's Info \n",
            "2) Check patient's severity \n",
            "3) Patients required oxygen support \n",
            "4) Patients in general ward \n",
            "5) Total Patients \n",
            "6)Exit \n",
            "\n",
            "4\n",
            "\n",
            "Number of patients in general ward for observation :  2\n",
            "\n",
            "---- Please make choice ------\n",
            "\n",
            "1) Patient's Info \n",
            "2) Check patient's severity \n",
            "3) Patients required oxygen support \n",
            "4) Patients in general ward \n",
            "5) Total Patients \n",
            "6)Exit \n",
            "\n",
            "5\n",
            "\n",
            "Total number of patients admitted :  4\n",
            "\n",
            "---- Please make choice ------\n",
            "\n",
            "1) Patient's Info \n",
            "2) Check patient's severity \n",
            "3) Patients required oxygen support \n",
            "4) Patients in general ward \n",
            "5) Total Patients \n",
            "6)Exit \n",
            "\n",
            "6\n"
          ]
        }
      ]
    },
    {
      "cell_type": "markdown",
      "metadata": {
        "id": "ltWoauGRvqrz"
      },
      "source": [
        "6.\tCreate a Class time that has separate int member data for hours, minutes, and seconds. One\n",
        "constructor should initialize this data to 0 and another should initialize it to fixed values. Another member function should display it in hh:mm: ss format.\n"
      ]
    },
    {
      "cell_type": "code",
      "metadata": {
        "id": "osM3Typevwxf",
        "colab": {
          "base_uri": "https://localhost:8080/"
        },
        "outputId": "651c89af-77c2-41fe-bd32-99187b4a1062"
      },
      "source": [
        "class time :\n",
        "  def __init__(self,hours = 00,min = 00,sec = 00):\n",
        "    self.hours = hours\n",
        "    self.min = min\n",
        "    self.sec = sec\n",
        "  def display(self):\n",
        "    if (self.hours >=24 or self.hours < 0 and self.min == self.sec == 59):\n",
        "      return print(\"Invalid hours!!\")\n",
        "\n",
        "    if (self.min >=60 or self.min < 0):\n",
        "      return print(\"\\nInvalid minutes!!\")\n",
        "      \n",
        "    if (self.sec >=60 or self.sec < 0):\n",
        "      return print(\"\\nInvalid seconds!!\")\n",
        "\n",
        "    print(\"{}:{}:{}\".format(self.hours,self.min,self.sec))\n",
        "\n",
        "\n",
        "t = time(23,59,59)\n",
        "t.display()\n"
      ],
      "execution_count": null,
      "outputs": [
        {
          "output_type": "stream",
          "name": "stdout",
          "text": [
            "23:59:59\n"
          ]
        }
      ]
    },
    {
      "cell_type": "markdown",
      "metadata": {
        "id": "4FM91cOGvxGf"
      },
      "source": [
        "7.\tCreate a class to store the details of two students: std1(Name= Rahul, Age =21, roll no=33),\n",
        "Std2( Name = Rohit, Age=22, Roll no = 74)\n",
        "Write a function to compare the age of both the students, print whether they are equal or not equal.\n"
      ]
    },
    {
      "cell_type": "code",
      "metadata": {
        "id": "U0QV7MIQv2OT",
        "colab": {
          "base_uri": "https://localhost:8080/"
        },
        "outputId": "51491e6a-76da-443f-c963-2b41267eeef8"
      },
      "source": [
        "class student:\n",
        "  def __init__(self,name,roll,age):\n",
        "    self.age = age\n",
        "    self.name = name\n",
        "    self.roll = roll\n",
        "\n",
        "  @classmethod\n",
        "  def compare(cls,s1,s2):\n",
        "    if s1.age == s2.age:\n",
        "      print(\"Age of {} and {} are equal.\".format(s1.name,s2.name))\n",
        "    else :\n",
        "      print(\"Age of {} and {} are not equal.\".format(s1.name,s2.name))\n",
        "\n",
        "s1 = student('Rahul',33,21)\n",
        "s2 = student('Rohit',74,22)\n",
        "student.compare(s1,s2)\n"
      ],
      "execution_count": null,
      "outputs": [
        {
          "output_type": "stream",
          "name": "stdout",
          "text": [
            "Age of Rahul and Rohit are not equal.\n"
          ]
        }
      ]
    },
    {
      "cell_type": "markdown",
      "metadata": {
        "id": "dPOlqoPuv2he"
      },
      "source": [
        "8.\tCreate an instance of a class to store student details such as Sem, Institute, Name, and usn where:\n",
        "•\tSem and Institute details should be class variables.\n",
        "•\tName and usn should be instance variables.\n",
        "And also, print the instance variable using the instance method and class variable using the class method, also use a static method to print an explanation about the class.\n"
      ]
    },
    {
      "cell_type": "code",
      "metadata": {
        "id": "SuWT3Op3v7Vq",
        "colab": {
          "base_uri": "https://localhost:8080/"
        },
        "outputId": "215fbb10-58d8-42c4-c830-fcd5b1c7cca2"
      },
      "source": [
        "class student:\n",
        "  sem = '3rd'\n",
        "  institute = 'IIIT DWD'\n",
        "  def __init__(self,name,usn):\n",
        "    self.name  =name\n",
        "    self.usn =usn\n",
        "\n",
        "  def show(self):\n",
        "    #Printing the instance variable using the instance method\n",
        "    print(\"Name : \"+self.name+'\\n'+\"USN : \"+self.usn)\n",
        "\n",
        "  @classmethod\n",
        "  def clsmethod(cls):\n",
        "    #Printing the class variable using the instance method\n",
        "    print(\"Sem : \"+student.sem+'\\n'+\"Institute : \"+student.institute+'\\n')\n",
        "\n",
        "  @staticmethod\n",
        "  def statmethod():\n",
        "    #Using static method to print an explanation about the class\n",
        "    print(\"\\nA class to store student details such as Sem, Institute, Name, and usn .\\n\")\n",
        "\n",
        "s1 = student('Yuvraj','141')\n",
        "s1.statmethod()\n",
        "s1.show()\n",
        "s1.clsmethod()\n",
        "\n",
        "s2 = student('Aman','100')\n",
        "s2.statmethod()\n",
        "s2.show()\n",
        "s2.clsmethod()"
      ],
      "execution_count": null,
      "outputs": [
        {
          "output_type": "stream",
          "name": "stdout",
          "text": [
            "\n",
            "A class to store student details such as Sem, Institute, Name, and usn .\n",
            "\n",
            "Name : Yuvraj\n",
            "USN : 141\n",
            "Sem : 3rd\n",
            "Institute : IIIT DWD\n",
            "\n",
            "\n",
            "A class to store student details such as Sem, Institute, Name, and usn .\n",
            "\n",
            "Name : Aman\n",
            "USN : 100\n",
            "Sem : 3rd\n",
            "Institute : IIIT DWD\n",
            "\n"
          ]
        }
      ]
    },
    {
      "cell_type": "markdown",
      "metadata": {
        "id": "XppGhbKmv7kY"
      },
      "source": [
        "9.\tWrite a python program to create a student class with the variable Name, Roll no, and Sem,  also the student is having a laptop create an instance of an inner class laptop with variable cpu, Ram, and hard disk and display details. Also, create multiple objects for the inner class laptop.\n",
        "\n"
      ]
    },
    {
      "cell_type": "code",
      "metadata": {
        "id": "7yn6JPljwDNI",
        "colab": {
          "base_uri": "https://localhost:8080/"
        },
        "outputId": "5e847eff-4955-4398-bca5-42e37f3ff916"
      },
      "source": [
        "class student:\n",
        "  def __init__(self,name,roll,sem):\n",
        "    self.name = name\n",
        "    self.roll = roll\n",
        "    self.sem = sem\n",
        "\n",
        "class laptop(student):\n",
        "  def __init__(self,cpu,ram,hd,name,roll,sem):\n",
        "    self.cpu = cpu\n",
        "    self.ram = ram\n",
        "    self.hd = hd\n",
        "    student.__init__(self,name,roll,sem)\n",
        "\n",
        "  def display(self):\n",
        "    print(\"\\nName : \" + self.name + \"\\nRoll No. : \" + self.roll + \"\\nSemester : \" + self.sem + \"\\nCPU : \" + self.cpu + \"\\nRAM : \" + self.ram + \"\\nHard Disk : \" + self.hd)\n",
        "\n",
        "#s1 = student('yuvraj','141','3rd')\n",
        "l1 = laptop('pentium','4gb','500gb','yuvraj','141','3rd')\n",
        "l2 = laptop('ryzen 7','8gb','1tb','yuvraj','141','3rd')\n",
        "l1.display()\n",
        "l2.display()"
      ],
      "execution_count": null,
      "outputs": [
        {
          "output_type": "stream",
          "name": "stdout",
          "text": [
            "\n",
            "Name : yuvraj\n",
            "Roll No. : 141\n",
            "Semester : 3rd\n",
            "CPU : pentium\n",
            "RAM : 4gb\n",
            "Hard Disk : 500gb\n",
            "\n",
            "Name : yuvraj\n",
            "Roll No. : 141\n",
            "Semester : 3rd\n",
            "CPU : ryzen 7\n",
            "RAM : 8gb\n",
            "Hard Disk : 1tb\n"
          ]
        }
      ]
    }
  ]
}